{
 "cells": [
  {
   "cell_type": "code",
   "execution_count": 17,
   "id": "71fb76c6",
   "metadata": {},
   "outputs": [
    {
     "name": "stdout",
     "output_type": "stream",
     "text": [
      "✔ Download and installation successful\n",
      "You can now load the package via spacy.load('en_core_web_sm')\n"
     ]
    }
   ],
   "source": [
    "from chatterbot import ChatBot\n",
    "from chatterbot.trainers import ListTrainer\n",
    "\n",
    "from spacy.cli import download\n",
    "\n",
    "download(\"en_core_web_sm\")\n",
    "\n",
    "class ENGSM:\n",
    "    ISO_639_1 = 'en_core_web_sm'"
   ]
  },
  {
   "cell_type": "code",
   "execution_count": null,
   "id": "f359a537",
   "metadata": {
    "scrolled": true
   },
   "outputs": [],
   "source": [
    "chatbot = ChatBot(\"Miranda\", tagger_language=ENGSM)\n",
    "\n",
    "conversa = [\n",
    "    \"Oi\",\n",
    "    \"Salve!\",\n",
    "    \"Sobre o Meta Marcha\",\n",
    "    \"O Meta Marcha é um projeto de ERP social desenvolvido por estudantes do Instituto PROA, tendo como objetivo ajudar empreendedores na gestão de sua empresa e somando também conhecimentos através de cursos.\",\n",
    "    \"Sobre os Planos\",\n",
    "    \"Dentre os quatro, você pode escolher o plano que melhor te agrade e assassinar com cartão de crédito ou débito. Todos os nossos planos têm teste grátis de 30 dias, com cobrança normal após esse prazo.\"\n",
    "    \"Qual o Preço\",\n",
    "    \"Nossos planos têm um valor social que consideramos custo benefício, visando te ajudar por <um baixo preço e ao mesmo tempo manter nossa plataforma online. A partir de R$ 19,90 você tem acesso à diversas ferramentas que auxiliarão na manutenção de sua empresa, incluindo controle de estoque e de caixa.\",\n",
    "    \"Meus Dados\",\n",
    "    \"Mantemos um código de ética fortemente baseado na LGPD (Lei Geral de Proteção de Dados Pessoais), em vigor desde 2020. Nela, temos o dever de proteger seus dados com o mais extremo sigilo, além de atualizar constantemente sobre o modo como trabalhamos. Você pode ler os nossos Termos de Uso para saber mais sobre a equipe e o tratamento de dados.\",\n",
    "    \"LGPD Lei Geral de Proteção de Dados Pessoais\",\n",
    "    \"Mantemos um código de ética fortemente baseado na LGPD (Lei Geral de Proteção de Dados Pessoais), em vigor desde 2020. Nela, temos o dever de proteger seus dados com o mais extremo sigilo, além de atualizar constantemente sobre o modo como trabalhamos. Você pode ler os nossos Termos de Uso para saber mais sobre a equipe e o tratamento de dados.\"\n",
    "]\n",
    "\n",
    "trainer = ListTrainer(chatbot)\n",
    "trainer.train(conversa)"
   ]
  },
  {
   "cell_type": "code",
   "execution_count": 24,
   "id": "25860c39",
   "metadata": {
    "scrolled": true
   },
   "outputs": [
    {
     "name": "stdout",
     "output_type": "stream",
     "text": [
      "Com o que voce precisa de ajuda hoje? planos\n"
     ]
    },
    {
     "ename": "NameError",
     "evalue": "name 'chatbot' is not defined",
     "output_type": "error",
     "traceback": [
      "\u001b[1;31m---------------------------------------------------------------------------\u001b[0m",
      "\u001b[1;31mNameError\u001b[0m                                 Traceback (most recent call last)",
      "Input \u001b[1;32mIn [24]\u001b[0m, in \u001b[0;36m<cell line: 2>\u001b[1;34m()\u001b[0m\n\u001b[0;32m      3\u001b[0m \u001b[38;5;28;01mif\u001b[39;00m mensagem \u001b[38;5;241m==\u001b[39m \u001b[38;5;124m\"\u001b[39m\u001b[38;5;124mfechar\u001b[39m\u001b[38;5;124m\"\u001b[39m:\n\u001b[0;32m      4\u001b[0m     \u001b[38;5;28;01mbreak\u001b[39;00m\n\u001b[1;32m----> 5\u001b[0m resposta \u001b[38;5;241m=\u001b[39m \u001b[43mchatbot\u001b[49m\u001b[38;5;241m.\u001b[39mget_response(mensagem)\n\u001b[0;32m      6\u001b[0m \u001b[38;5;28mprint\u001b[39m(resposta)\n",
      "\u001b[1;31mNameError\u001b[0m: name 'chatbot' is not defined"
     ]
    }
   ],
   "source": [
    "while True:\n",
    "    mensagem = input(\"Com o que voce precisa de ajuda hoje? \")\n",
    "    if mensagem == \"fechar\":\n",
    "        break\n",
    "    resposta = chatbot.get_response(mensagem)\n",
    "    print(resposta)"
   ]
  },
  {
   "cell_type": "code",
   "execution_count": 25,
   "id": "8dbcae09",
   "metadata": {},
   "outputs": [
    {
     "ename": "NameError",
     "evalue": "name 'chatbot' is not defined",
     "output_type": "error",
     "traceback": [
      "\u001b[1;31m---------------------------------------------------------------------------\u001b[0m",
      "\u001b[1;31mNameError\u001b[0m                                 Traceback (most recent call last)",
      "Input \u001b[1;32mIn [25]\u001b[0m, in \u001b[0;36m<cell line: 1>\u001b[1;34m()\u001b[0m\n\u001b[1;32m----> 1\u001b[0m \u001b[43mchatbot\u001b[49m\u001b[38;5;241m.\u001b[39mstorage\u001b[38;5;241m.\u001b[39mdrop()\n",
      "\u001b[1;31mNameError\u001b[0m: name 'chatbot' is not defined"
     ]
    }
   ],
   "source": [
    "chatbot.storage.drop()"
   ]
  },
  {
   "cell_type": "code",
   "execution_count": null,
   "id": "7bb4f2a8",
   "metadata": {},
   "outputs": [],
   "source": []
  }
 ],
 "metadata": {
  "kernelspec": {
   "display_name": "Python 3 (ipykernel)",
   "language": "python",
   "name": "python3"
  },
  "language_info": {
   "codemirror_mode": {
    "name": "ipython",
    "version": 3
   },
   "file_extension": ".py",
   "mimetype": "text/x-python",
   "name": "python",
   "nbconvert_exporter": "python",
   "pygments_lexer": "ipython3",
   "version": "3.9.12"
  }
 },
 "nbformat": 4,
 "nbformat_minor": 5
}
